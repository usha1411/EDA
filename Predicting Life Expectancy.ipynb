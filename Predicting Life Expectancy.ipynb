{
 "cells": [
  {
   "cell_type": "markdown",
   "metadata": {},
   "source": [
    "# <center>Health Status - Life Expectancy</center>"
   ]
  },
  {
   "cell_type": "markdown",
   "metadata": {},
   "source": [
    "## Objective: \n",
    "\n",
    "Life expectancy at birth and at ages 40, 60, 65 and 80 years old is the average number of years that a person at that age can be expected to live, assuming that age-specific mortality levels remain constant. The Eurostat database (dataset Life expectancy by age and sex accessed in June 2019) is the main data source for all European countries, except Turkey.  Australian Bureau of Statistics:Australia, Statistics Canada:Canada, National Statistics Institute:Chile, Central Bureau of Statistics:Israel, Ministry of Health, Labour and Welfare:Japan, National Statistical Office:Korea, National Population Council (CONAPO):Mexico,Statistics New Zealand:New Zealand, Turkish Statistical Institute:Turkey, U.S. Department of Health and Human Services/Centers for Disease Control and Prevention/National Center for Health Statistics:USA, The World Bank, World Development Indicators online:Brazil, China, Columbia, India, Indonesia, South Africa,  National Institute of Statistics and Census (INEC):Costa Rica and Federal State Statistics Service: Russia are a few other sources of the statistics for other countries.\n",
    "\n",
    "The objective of the study is to find Life Expectancy of humans in different countries of the world. Since life expectancy is an indicator of multiple factors like healthy and stress-free life, good environmental conditions for human survival, diet-values for healthy and long-live life etc finding the countries with highest and lowest life expectancies can help us in determining the best countries to live in/out. The data is plenty and huge with various sections like life expectancy of female at birth, female at 40, female at 60, female at 65, female at 80, male at birth, male at 40, male at 60, male at 65, male at 80 etc. Due to many sections of data, the current study is confined to a single section:life expectancies of females at birth in global countries. This confinement is because of the project and time limitation.\n",
    "\n",
    "The goal is to read the statistics available for life expectancies from the website: https://stats.oecd.org/Index.aspx?DatasetCode=HEALTH_STAT. Then filter the data required for study(female at birth) and store it in a pandas dataframe, perform exploratory data analytics using data visualizations. From the analysis find the countries with highest and lowest life expectancies and recommend the countries with lowest life expectancy to improve the quality of life for healthy and long life. The study can help countries with lowest life expectancy to evaluate their life style, food habits, body health, enviroment etc and take measure to improve the life expectancy. They can also try to adopt certain aspects of life style from those with highest life expectancy to improve the numbers.\n"
   ]
  },
  {
   "cell_type": "markdown",
   "metadata": {},
   "source": [
    "## Data Mining:\n",
    "\n",
    "\n",
    "The website has a table consisting of more than 313 rows of data. Data for the current study is available in the first 44 rows; one for each country with columns as years: from the year 2010 to 2018. There are various sibling columns for a column in the table; for example, a few of the countries are grouped under:Non-OECD Economies. The dataset also included certain columns like the measure, variable being measured etc and a few blank columns.\n",
    "\n",
    "1. Read the table data from website using BeautifulSoup library.\n",
    "2. Store all the headers in a list, variable name: all_headers.\n",
    "3. Store all rows data in a list(variable name:data) with each row of data in another list(variable name:col_data).\n",
    "4. Few of the cells have (B) and (P) in their values. These cell values are repeated twice in that particular row list(variable name:col_data). Hence these values are ignored while reading from the website table.\n",
    "5. Also there are certain blank column in the table that are ignored while reading and storing in the list(variable name:col_data).\n",
    "6. The first four elements of the list(variable name:data) have blank values which are ignored.\n",
    "7. The problem of sibling/grouped columns is overcome by checking the length of each row of data(variable name: each element in the list data). If the length is greater than 10(since country,2010-2018 includes 1+9 = 10 column values for each row), it indicates that row has more column data. The extra column data is always at the beginning of the list. Find the number of extra elements by subtracting 10 from the total list length(variable name:extra_elements) and preserve the elements from (variable name:)extra_elements till the end of the list. \n",
    "8. There are certain rows in the table with less than 10 column values. These rows are stored in a list (variable name:del_list) and are deleted from the actual data(variable name:data).\n",
    "9. Above steps resulted in a formatted list, variable name:data. Each element in this list is a list/row of data with country and statistics of life expectancy from 2010-2018.\n",
    "10. The list(variable name: data) is stored into a dataframe:country_df.\n",
    "11. The values like:\"..\" in the dataset are replace by Nan.\n",
    "12. The columns 2010-2018 are converted into numeric datatype.\n",
    "13. Data relevant to the current study(:life expectancy of female at birth in various countries) is stored in the dataframe(variable name:femle_birth_df). The relevant data is in the first 44 rows of the dataframe(variable name:country_df).\n",
    "14. Since there is no much data for the year:2018 this column is completely ignored for the analysis.\n",
    "15. The dataframe:femle_birth_df is used in performing analysis and data visualizations to draw insights on life expectancy of female at birth in various countries."
   ]
  },
  {
   "cell_type": "code",
   "execution_count": 1,
   "metadata": {},
   "outputs": [
    {
     "name": "stdout",
     "output_type": "stream",
     "text": [
      "200\n",
      "utf-8\n"
     ]
    },
    {
     "data": {
      "text/plain": [
       "str"
      ]
     },
     "execution_count": 1,
     "metadata": {},
     "output_type": "execute_result"
    }
   ],
   "source": [
    "from bs4 import BeautifulSoup\n",
    "import requests\n",
    "import pandas as pd\n",
    "import numpy as np\n",
    "\n",
    "diab_url = \"https://stats.oecd.org/Index.aspx?DatasetCode=HEALTH_STAT\"\n",
    "response_diab = requests.get(diab_url)\n",
    "type(response_diab)\n",
    "print(response_diab.status_code)\n",
    "print(response_diab.encoding)\n",
    "contents_diab = response_diab.content.decode(response_diab.encoding)\n",
    "\n",
    "soup_diab = BeautifulSoup(contents_diab, \"html.parser\")\n",
    "type(soup_diab)\n",
    "txt_dump_diab = soup_diab.text\n",
    "type(txt_dump_diab)"
   ]
  },
  {
   "cell_type": "code",
   "execution_count": 2,
   "metadata": {},
   "outputs": [
    {
     "name": "stdout",
     "output_type": "stream",
     "text": [
      "[<th class=\"HDimName\" colspan=\"6\" rowspan=\"3\"><b><a class=\"dimensionSelectMemberButton\" href=\"#\" onclick=\"OpenDialog('./ModalTimeDimension.aspx?DimensionCode=YEA', 'Customize');\">Year</a></b></th>]\n"
     ]
    },
    {
     "data": {
      "text/plain": [
       "['Country',\n",
       " '2010',\n",
       " '2011',\n",
       " '2012',\n",
       " '2013',\n",
       " '2014',\n",
       " '2015',\n",
       " '2016',\n",
       " '2017',\n",
       " '2018']"
      ]
     },
     "execution_count": 2,
     "metadata": {},
     "output_type": "execute_result"
    }
   ],
   "source": [
    "tables_f = soup_diab.find_all('table', {'class':'DataTable'})\n",
    "theads = soup_diab.find_all('th', {'class':'HDimName'})\n",
    "print(theads)\n",
    "\n",
    "theads_years = soup_diab.find_all('th', {'class':'HDim'})\n",
    "\n",
    "years = []\n",
    "for i in range(0,9):\n",
    "    years.append(theads_years[i].text)\n",
    "#years\n",
    "\n",
    "theads = soup_diab.find_all('th', {'class':'VDimName'})\n",
    "heads = []\n",
    "for i in range(0,len(theads)-1):\n",
    "    heads.append(theads[i].text)\n",
    "all_headers = heads+years\n",
    "all_headers = all_headers[2:]\n",
    "\n",
    "all_headers"
   ]
  },
  {
   "cell_type": "code",
   "execution_count": 3,
   "metadata": {},
   "outputs": [
    {
     "data": {
      "text/plain": [
       "['Life expectancy',\n",
       " 'Females at birth',\n",
       " 'Years',\n",
       " 'Australia',\n",
       " '84',\n",
       " '84.2',\n",
       " '84.3',\n",
       " '84.3',\n",
       " '84.4',\n",
       " '84.5',\n",
       " '84.6',\n",
       " '84.6',\n",
       " '..']"
      ]
     },
     "execution_count": 3,
     "metadata": {},
     "output_type": "execute_result"
    }
   ],
   "source": [
    "data = [] \n",
    "row_marker = 0\n",
    "for row in tables_f[0].find_all('tr'):\n",
    "    column_marker = 0\n",
    "    columns = row.find_all('td')\n",
    "    col_data = []\n",
    "    for column in columns:\n",
    "        if not((column.get_text()).startswith(\"(B)\")) and not((column.get_text()).startswith(\"(P)\")) and column.get_text() != '':\n",
    "            col_data.append(column.get_text())\n",
    "    data.append(col_data)\n",
    "\n",
    "data = data[4:]\n",
    "data[0]"
   ]
  },
  {
   "cell_type": "code",
   "execution_count": 4,
   "metadata": {},
   "outputs": [
    {
     "data": {
      "text/plain": [
       "['Australia',\n",
       " '84',\n",
       " '84.2',\n",
       " '84.3',\n",
       " '84.3',\n",
       " '84.4',\n",
       " '84.5',\n",
       " '84.6',\n",
       " '84.6',\n",
       " '..']"
      ]
     },
     "execution_count": 4,
     "metadata": {},
     "output_type": "execute_result"
    }
   ],
   "source": [
    "from functools import partial \n",
    "from operator import ne \n",
    "\n",
    "data_w_header = []\n",
    "del_list =[]\n",
    "\n",
    "for i in range(0,len(data)):\n",
    "\n",
    "    if (len(data[i]) > 10):\n",
    "        data_w_header.append(data[i]) \n",
    "        extra_elements = len(data[i]) - 10\n",
    "        data[i] = data[i][extra_elements:]\n",
    "    elif (len(data[i]) < 10):\n",
    "        del_list.append(data[i])\n",
    "    \n",
    "\n",
    "for i in del_list:\n",
    "    data = list(filter(partial(ne, i), data))\n",
    "\n",
    "data[0]"
   ]
  },
  {
   "cell_type": "code",
   "execution_count": 5,
   "metadata": {},
   "outputs": [
    {
     "data": {
      "text/html": [
       "<div>\n",
       "<style scoped>\n",
       "    .dataframe tbody tr th:only-of-type {\n",
       "        vertical-align: middle;\n",
       "    }\n",
       "\n",
       "    .dataframe tbody tr th {\n",
       "        vertical-align: top;\n",
       "    }\n",
       "\n",
       "    .dataframe thead th {\n",
       "        text-align: right;\n",
       "    }\n",
       "</style>\n",
       "<table border=\"1\" class=\"dataframe\">\n",
       "  <thead>\n",
       "    <tr style=\"text-align: right;\">\n",
       "      <th></th>\n",
       "      <th>Country</th>\n",
       "      <th>2010</th>\n",
       "      <th>2011</th>\n",
       "      <th>2012</th>\n",
       "      <th>2013</th>\n",
       "      <th>2014</th>\n",
       "      <th>2015</th>\n",
       "      <th>2016</th>\n",
       "      <th>2017</th>\n",
       "    </tr>\n",
       "  </thead>\n",
       "  <tbody>\n",
       "    <tr>\n",
       "      <th>0</th>\n",
       "      <td>Australia</td>\n",
       "      <td>84.0</td>\n",
       "      <td>84.2</td>\n",
       "      <td>84.3</td>\n",
       "      <td>84.3</td>\n",
       "      <td>84.4</td>\n",
       "      <td>84.5</td>\n",
       "      <td>84.6</td>\n",
       "      <td>84.6</td>\n",
       "    </tr>\n",
       "    <tr>\n",
       "      <th>1</th>\n",
       "      <td>Austria</td>\n",
       "      <td>83.5</td>\n",
       "      <td>83.8</td>\n",
       "      <td>83.6</td>\n",
       "      <td>83.8</td>\n",
       "      <td>84.0</td>\n",
       "      <td>83.7</td>\n",
       "      <td>84.1</td>\n",
       "      <td>84.0</td>\n",
       "    </tr>\n",
       "    <tr>\n",
       "      <th>2</th>\n",
       "      <td>Belgium</td>\n",
       "      <td>83.0</td>\n",
       "      <td>83.3</td>\n",
       "      <td>83.1</td>\n",
       "      <td>83.2</td>\n",
       "      <td>83.9</td>\n",
       "      <td>83.4</td>\n",
       "      <td>84.0</td>\n",
       "      <td>83.9</td>\n",
       "    </tr>\n",
       "    <tr>\n",
       "      <th>3</th>\n",
       "      <td>Canada</td>\n",
       "      <td>83.3</td>\n",
       "      <td>83.5</td>\n",
       "      <td>83.6</td>\n",
       "      <td>83.8</td>\n",
       "      <td>83.9</td>\n",
       "      <td>83.9</td>\n",
       "      <td>84.0</td>\n",
       "      <td>84.0</td>\n",
       "    </tr>\n",
       "    <tr>\n",
       "      <th>4</th>\n",
       "      <td>Chile</td>\n",
       "      <td>80.9</td>\n",
       "      <td>81.4</td>\n",
       "      <td>81.3</td>\n",
       "      <td>82.4</td>\n",
       "      <td>82.5</td>\n",
       "      <td>82.7</td>\n",
       "      <td>83.1</td>\n",
       "      <td>NaN</td>\n",
       "    </tr>\n",
       "  </tbody>\n",
       "</table>\n",
       "</div>"
      ],
      "text/plain": [
       "     Country  2010  2011  2012  2013  2014  2015  2016  2017\n",
       "0  Australia  84.0  84.2  84.3  84.3  84.4  84.5  84.6  84.6\n",
       "1    Austria  83.5  83.8  83.6  83.8  84.0  83.7  84.1  84.0\n",
       "2    Belgium  83.0  83.3  83.1  83.2  83.9  83.4  84.0  83.9\n",
       "3     Canada  83.3  83.5  83.6  83.8  83.9  83.9  84.0  84.0\n",
       "4      Chile  80.9  81.4  81.3  82.4  82.5  82.7  83.1   NaN"
      ]
     },
     "execution_count": 5,
     "metadata": {},
     "output_type": "execute_result"
    }
   ],
   "source": [
    "country_df = pd.DataFrame(data, columns =all_headers)\n",
    "country_df.replace('..', np.nan, inplace=True)\n",
    "country_df[['2010','2011','2012','2013','2014','2015','2016','2017','2018']] = country_df[['2010','2011','2012','2013','2014','2015','2016','2017','2018']].apply(pd.to_numeric)\n",
    "\n",
    "femle_birth_df = country_df.iloc[0:44,0:9]\n",
    "\n",
    "#fem_mal_diff_df = country_df.iloc[44:88,0:9]\n",
    "#fem_at_40_df = country_df.iloc[88:124,0:9]\n",
    "#fem_mal_diff_40_df = country_df.iloc[124:160,0:9]\n",
    "#fem_at_60_df = country_df.iloc[160:196,0:9]\n",
    "#fem_mal_diff_60_df = country_df.iloc[196:232,0:9]\n",
    "#fem_at_65_df = country_df.iloc[232:271,0:9]\n",
    "#fem_mal_diff_65_df = country_df.iloc[271:311,0:9]\n",
    "\n",
    "femle_birth_df.head()"
   ]
  },
  {
   "cell_type": "markdown",
   "metadata": {},
   "source": [
    "## Findings:"
   ]
  },
  {
   "cell_type": "markdown",
   "metadata": {},
   "source": [
    "### 1. Bar Plot: Each country's life expectancy of female at birth in 2010 and 2017:\n",
    "\n",
    "Sort femle_birth_df by 2010 values and extract 2010 and 2017 columns for all countries.\n",
    "Plot a bar graph to interpret the changes in life expectancy of female at birth in each country from 2010 to 2017."
   ]
  },
  {
   "cell_type": "code",
   "execution_count": 12,
   "metadata": {},
   "outputs": [
    {
     "data": {
      "text/plain": [
       "<matplotlib.axes._subplots.AxesSubplot at 0x1f2f05db400>"
      ]
     },
     "execution_count": 12,
     "metadata": {},
     "output_type": "execute_result"
    },
    {
     "data": {
      "image/png": "[encoded data removed]",
      "text/plain": [
       "<Figure size 1152x576 with 1 Axes>"
      ]
     },
     "metadata": {
      "needs_background": "light"
     },
     "output_type": "display_data"
    }
   ],
   "source": [
    "femle_birth_df_top_2010_2017 = femle_birth_df.sort_values(by='2010',ascending=False)[['Country','2010','2017']]\n",
    "femle_birth_df_top_2010_2017.plot(x='Country',y=['2010','2017'],kind=\"bar\",figsize=(16,8),width=0.7)"
   ]
  },
  {
   "cell_type": "markdown",
   "metadata": {},
   "source": [
    "#### Inferences: \n",
    "\n",
    "Japan continued to be on the top in terms of life expectancy of female at birth and South Africa continued to be on the bottom.   \n",
    "Most of the countries have a life expectancy greater than 80 except the bottom 3-5.   \n",
    "There is an increase in the number of years of life for every country from 2010 to 2017.   \n",
    "There is a significant increase in the life expectancy from 2010 to 2017 for South Africa.   \n",
    "Most of the European countries have high life expectancy when compared to other continents.   \n",
    "The countries with lowest life expectancy is a mix of European,Asian, African and American countries."
   ]
  },
  {
   "cell_type": "markdown",
   "metadata": {},
   "source": [
    "### 2. Histogram: Each country's life expectancy of female at birth from 2010 to 2017:\n",
    "\n",
    "Using the columns of femle_birth_df plot a histogram to find how many countries have a commom life expectancy numbers from 2010 to 2017."
   ]
  },
  {
   "cell_type": "code",
   "execution_count": 7,
   "metadata": {},
   "outputs": [
    {
     "data": {
      "text/plain": [
       "array([[<matplotlib.axes._subplots.AxesSubplot object at 0x000001F2F0031630>,\n",
       "        <matplotlib.axes._subplots.AxesSubplot object at 0x000001F2F00528D0>,\n",
       "        <matplotlib.axes._subplots.AxesSubplot object at 0x000001F2F007AC88>],\n",
       "       [<matplotlib.axes._subplots.AxesSubplot object at 0x000001F2F00A9240>,\n",
       "        <matplotlib.axes._subplots.AxesSubplot object at 0x000001F2F00D3748>,\n",
       "        <matplotlib.axes._subplots.AxesSubplot object at 0x000001F2F00FCC88>],\n",
       "       [<matplotlib.axes._subplots.AxesSubplot object at 0x000001F2F012C240>,\n",
       "        <matplotlib.axes._subplots.AxesSubplot object at 0x000001F2F01537F0>,\n",
       "        <matplotlib.axes._subplots.AxesSubplot object at 0x000001F2F0153828>]],\n",
       "      dtype=object)"
      ]
     },
     "execution_count": 7,
     "metadata": {},
     "output_type": "execute_result"
    },
    {
     "data": {
      "image/png": "[encoded data removed]",
      "text/plain": [
       "<Figure size 1080x1080 with 9 Axes>"
      ]
     },
     "metadata": {
      "needs_background": "light"
     },
     "output_type": "display_data"
    }
   ],
   "source": [
    "import matplotlib.pyplot as plt \n",
    "\n",
    "femle_birth_df_plt = femle_birth_df.iloc[:,1:]\n",
    "femle_birth_df_plt\n",
    "ax = femle_birth_df_plt.hist(figsize=(15,15))\n",
    "ax\n"
   ]
  },
  {
   "cell_type": "markdown",
   "metadata": {},
   "source": [
    "#### Inferences: \n",
    "\n",
    "Most of the countries have a life expectancy greater than 80 from 2010 to 2017.   \n",
    "Many countries seem to have a life expectancy greater than 80 during 2012-2014 when compared to other years and it was highest in 2013 when compared to other years.   \n",
    "The years of life has slowly drifter towards higher numbers from 2010 to 2017 and more countries have a life expectancy of 85 in 2017 than in 2010.     \n",
    "Similarly the countries with low life years also drifted towards higher numbers. The lowest in 2010 was 59 and the lowest in 2017 is 68.    \n",
    "The highest number of years of life has also increased from 2010 to 2017. It was 86 in 2010 and 87 in 2017.   "
   ]
  },
  {
   "cell_type": "markdown",
   "metadata": {},
   "source": [
    "### 3. Line Graph: Top 10 Countries with highest life expectancy of female at birth from 2010 to 2017:\n",
    "\n",
    "From femle_birth_df sort values by years(2010-2017); one at a time; and get the top 10 countries for every sort.\n",
    "If the resulting data had considerable number of Nan values, that country is ignored for the plot.\n",
    "\n",
    "Plot a line graph to understand the trend of the top 10 countries with highest life expectancy of female at birth from 2010 to 2017."
   ]
  },
  {
   "cell_type": "code",
   "execution_count": 8,
   "metadata": {},
   "outputs": [
    {
     "data": {
      "text/html": [
       "<div>\n",
       "<style scoped>\n",
       "    .dataframe tbody tr th:only-of-type {\n",
       "        vertical-align: middle;\n",
       "    }\n",
       "\n",
       "    .dataframe tbody tr th {\n",
       "        vertical-align: top;\n",
       "    }\n",
       "\n",
       "    .dataframe thead th {\n",
       "        text-align: right;\n",
       "    }\n",
       "</style>\n",
       "<table border=\"1\" class=\"dataframe\">\n",
       "  <thead>\n",
       "    <tr style=\"text-align: right;\">\n",
       "      <th>Country</th>\n",
       "      <th>Australia</th>\n",
       "      <th>France</th>\n",
       "      <th>Italy</th>\n",
       "      <th>Japan</th>\n",
       "      <th>Korea</th>\n",
       "      <th>Spain</th>\n",
       "      <th>Switzerland</th>\n",
       "    </tr>\n",
       "  </thead>\n",
       "  <tbody>\n",
       "    <tr>\n",
       "      <th>2010</th>\n",
       "      <td>84</td>\n",
       "      <td>85.3</td>\n",
       "      <td>84.7</td>\n",
       "      <td>86.3</td>\n",
       "      <td>83.6</td>\n",
       "      <td>85.5</td>\n",
       "      <td>84.9</td>\n",
       "    </tr>\n",
       "    <tr>\n",
       "      <th>2011</th>\n",
       "      <td>84.2</td>\n",
       "      <td>85.7</td>\n",
       "      <td>84.8</td>\n",
       "      <td>85.9</td>\n",
       "      <td>84</td>\n",
       "      <td>85.6</td>\n",
       "      <td>85</td>\n",
       "    </tr>\n",
       "    <tr>\n",
       "      <th>2012</th>\n",
       "      <td>84.3</td>\n",
       "      <td>85.4</td>\n",
       "      <td>84.8</td>\n",
       "      <td>86.4</td>\n",
       "      <td>84.2</td>\n",
       "      <td>85.5</td>\n",
       "      <td>84.9</td>\n",
       "    </tr>\n",
       "    <tr>\n",
       "      <th>2013</th>\n",
       "      <td>84.3</td>\n",
       "      <td>85.6</td>\n",
       "      <td>85.2</td>\n",
       "      <td>86.6</td>\n",
       "      <td>84.6</td>\n",
       "      <td>86.1</td>\n",
       "      <td>85</td>\n",
       "    </tr>\n",
       "    <tr>\n",
       "      <th>2014</th>\n",
       "      <td>84.4</td>\n",
       "      <td>86.1</td>\n",
       "      <td>85.6</td>\n",
       "      <td>86.8</td>\n",
       "      <td>85</td>\n",
       "      <td>86.2</td>\n",
       "      <td>85.4</td>\n",
       "    </tr>\n",
       "    <tr>\n",
       "      <th>2015</th>\n",
       "      <td>84.5</td>\n",
       "      <td>85.6</td>\n",
       "      <td>84.9</td>\n",
       "      <td>87</td>\n",
       "      <td>85.2</td>\n",
       "      <td>85.7</td>\n",
       "      <td>85.1</td>\n",
       "    </tr>\n",
       "    <tr>\n",
       "      <th>2016</th>\n",
       "      <td>84.6</td>\n",
       "      <td>85.7</td>\n",
       "      <td>85.6</td>\n",
       "      <td>87.1</td>\n",
       "      <td>85.4</td>\n",
       "      <td>86.3</td>\n",
       "      <td>85.6</td>\n",
       "    </tr>\n",
       "    <tr>\n",
       "      <th>2017</th>\n",
       "      <td>84.6</td>\n",
       "      <td>85.6</td>\n",
       "      <td>85.2</td>\n",
       "      <td>87.3</td>\n",
       "      <td>85.7</td>\n",
       "      <td>86.1</td>\n",
       "      <td>85.6</td>\n",
       "    </tr>\n",
       "  </tbody>\n",
       "</table>\n",
       "</div>"
      ],
      "text/plain": [
       "Country Australia France Italy Japan Korea Spain Switzerland\n",
       "2010           84   85.3  84.7  86.3  83.6  85.5        84.9\n",
       "2011         84.2   85.7  84.8  85.9    84  85.6          85\n",
       "2012         84.3   85.4  84.8  86.4  84.2  85.5        84.9\n",
       "2013         84.3   85.6  85.2  86.6  84.6  86.1          85\n",
       "2014         84.4   86.1  85.6  86.8    85  86.2        85.4\n",
       "2015         84.5   85.6  84.9    87  85.2  85.7        85.1\n",
       "2016         84.6   85.7  85.6  87.1  85.4  86.3        85.6\n",
       "2017         84.6   85.6  85.2  87.3  85.7  86.1        85.6"
      ]
     },
     "execution_count": 8,
     "metadata": {},
     "output_type": "execute_result"
    }
   ],
   "source": [
    "femle_birth_df_top1_2017 = femle_birth_df.sort_values(by='2017',ascending=False)[['Country','2017']].head(10)\n",
    "femle_birth_df_top1_2016 = femle_birth_df.sort_values(by='2016',ascending=False)[['Country','2016']].head(10)\n",
    "femle_birth_df_top1_2015 = femle_birth_df.sort_values(by='2015',ascending=False)[['Country','2015']].head(10)\n",
    "femle_birth_df_top1_2014 = femle_birth_df.sort_values(by='2014',ascending=False)[['Country','2014']].head(10)\n",
    "femle_birth_df_top1_2013 = femle_birth_df.sort_values(by='2013',ascending=False)[['Country','2013']].head(10)\n",
    "femle_birth_df_top1_2012 = femle_birth_df.sort_values(by='2012',ascending=False)[['Country','2012']].head(10)\n",
    "femle_birth_df_top1_2011 = femle_birth_df.sort_values(by='2011',ascending=False)[['Country','2011']].head(10)\n",
    "femle_birth_df_top1_2010 = femle_birth_df.sort_values(by='2010',ascending=False)[['Country','2010']].head(10)\n",
    "femle_birth_df_top1_2010\n",
    "femle_birth_df_top1 = pd.concat([femle_birth_df_top1_2010,femle_birth_df_top1_2011,femle_birth_df_top1_2012,femle_birth_df_top1_2013,femle_birth_df_top1_2014,femle_birth_df_top1_2015,femle_birth_df_top1_2016,femle_birth_df_top1_2017], axis=1)\n",
    "femle_birth_df_top1 = femle_birth_df_top1.loc[:,~femle_birth_df_top1.columns.duplicated()]\n",
    "femle_birth_df_top1 = femle_birth_df_top1.T\n",
    "femle_birth_df_top1 = femle_birth_df_top1[[0,9,16,17,18,30,32]]\n",
    "femle_birth_df_top1.columns = femle_birth_df_top1.iloc[0]\n",
    "femle_birth_df_top1 = femle_birth_df_top1.iloc[1:,:]\n",
    "femle_birth_df_top1 = femle_birth_df_top1[['Australia','France','Italy','Japan','Korea','Spain','Switzerland']]\n",
    "\n",
    "femle_birth_df_top1"
   ]
  },
  {
   "cell_type": "code",
   "execution_count": 9,
   "metadata": {},
   "outputs": [
    {
     "data": {
      "text/plain": [
       "<matplotlib.axes._subplots.AxesSubplot at 0x1f2efae11d0>"
      ]
     },
     "execution_count": 9,
     "metadata": {},
     "output_type": "execute_result"
    },
    {
     "data": {
      "image/png": "[encoded data removed]",
      "text/plain": [
       "<Figure size 720x576 with 1 Axes>"
      ]
     },
     "metadata": {
      "needs_background": "light"
     },
     "output_type": "display_data"
    }
   ],
   "source": [
    "ax = femle_birth_df_top1.plot(figsize=(10,8))\n",
    "ax"
   ]
  },
  {
   "cell_type": "markdown",
   "metadata": {},
   "source": [
    "#### Inferences: \n",
    "\n",
    "Japan is always at the top from 2010 to 2017 with a life expectancy of 85 and above all through.   \n",
    "Korea was at the lowest life expectancy in 2010. However there is a significant raise and it took third highest place in 2017.    \n",
    "All of the top countries has increased the life expectancy numbers from 2010 to 2017.    \n",
    "Italy was at the third lowest in 2010 and it dipped to second lowest in 2017 when compared to other top countries.    \n",
    "Australia was at the second lowest in 2010 and fell down to the lowest in 2017 when compared to other top countries.   \n",
    "Spain continued to stay at the second highest place in terms of life expectancy of female at birth from 2010 to 2017.  \n"
   ]
  },
  {
   "cell_type": "markdown",
   "metadata": {},
   "source": [
    "### 4. Lollipop Chart: Bottom 10 Countries with lowest life expectancy of female at birth from 2010 to 2017:\n",
    "\n",
    "From femle_birth_df sort values by years(2010-2017); one at a time; and get the bottom 10 countries for every sort.\n",
    "If the resulting data had considerable number of Nan values, that country is ignored for the plot.\n",
    "\n",
    "Plot a lollipop graph to understand the trend of the bottom 10 countries with lowest life expectancy of female at birth from 2010 to 2017."
   ]
  },
  {
   "cell_type": "code",
   "execution_count": 10,
   "metadata": {},
   "outputs": [
    {
     "data": {
      "text/html": [
       "<div>\n",
       "<style scoped>\n",
       "    .dataframe tbody tr th:only-of-type {\n",
       "        vertical-align: middle;\n",
       "    }\n",
       "\n",
       "    .dataframe tbody tr th {\n",
       "        vertical-align: top;\n",
       "    }\n",
       "\n",
       "    .dataframe thead th {\n",
       "        text-align: right;\n",
       "    }\n",
       "</style>\n",
       "<table border=\"1\" class=\"dataframe\">\n",
       "  <thead>\n",
       "    <tr style=\"text-align: right;\">\n",
       "      <th></th>\n",
       "      <th>2010</th>\n",
       "      <th>2011</th>\n",
       "      <th>2012</th>\n",
       "      <th>2013</th>\n",
       "      <th>2014</th>\n",
       "      <th>2015</th>\n",
       "      <th>2016</th>\n",
       "      <th>2017</th>\n",
       "    </tr>\n",
       "    <tr>\n",
       "      <th>Country</th>\n",
       "      <th></th>\n",
       "      <th></th>\n",
       "      <th></th>\n",
       "      <th></th>\n",
       "      <th></th>\n",
       "      <th></th>\n",
       "      <th></th>\n",
       "      <th></th>\n",
       "    </tr>\n",
       "  </thead>\n",
       "  <tbody>\n",
       "    <tr>\n",
       "      <th>Mexico</th>\n",
       "      <td>77</td>\n",
       "      <td>77.2</td>\n",
       "      <td>77.3</td>\n",
       "      <td>77.4</td>\n",
       "      <td>77.5</td>\n",
       "      <td>77.7</td>\n",
       "      <td>77.8</td>\n",
       "      <td>77.9</td>\n",
       "    </tr>\n",
       "    <tr>\n",
       "      <th>Brazil</th>\n",
       "      <td>77.6</td>\n",
       "      <td>77.9</td>\n",
       "      <td>78.2</td>\n",
       "      <td>78.5</td>\n",
       "      <td>78.7</td>\n",
       "      <td>78.9</td>\n",
       "      <td>79.1</td>\n",
       "      <td>79.3</td>\n",
       "    </tr>\n",
       "    <tr>\n",
       "      <th>China (People's Republic of)</th>\n",
       "      <td>76.8</td>\n",
       "      <td>77</td>\n",
       "      <td>77.2</td>\n",
       "      <td>77.3</td>\n",
       "      <td>77.5</td>\n",
       "      <td>77.7</td>\n",
       "      <td>77.8</td>\n",
       "      <td>78</td>\n",
       "    </tr>\n",
       "    <tr>\n",
       "      <th>Colombia</th>\n",
       "      <td>77</td>\n",
       "      <td>77.2</td>\n",
       "      <td>77.3</td>\n",
       "      <td>77.5</td>\n",
       "      <td>77.7</td>\n",
       "      <td>77.8</td>\n",
       "      <td>78</td>\n",
       "      <td>78.2</td>\n",
       "    </tr>\n",
       "    <tr>\n",
       "      <th>India</th>\n",
       "      <td>67.8</td>\n",
       "      <td>68.3</td>\n",
       "      <td>68.8</td>\n",
       "      <td>69.2</td>\n",
       "      <td>69.6</td>\n",
       "      <td>69.9</td>\n",
       "      <td>70.2</td>\n",
       "      <td>70.4</td>\n",
       "    </tr>\n",
       "    <tr>\n",
       "      <th>Indonesia</th>\n",
       "      <td>70.3</td>\n",
       "      <td>70.5</td>\n",
       "      <td>70.6</td>\n",
       "      <td>70.8</td>\n",
       "      <td>71</td>\n",
       "      <td>71.2</td>\n",
       "      <td>71.4</td>\n",
       "      <td>71.6</td>\n",
       "    </tr>\n",
       "    <tr>\n",
       "      <th>Russia</th>\n",
       "      <td>74.9</td>\n",
       "      <td>75.6</td>\n",
       "      <td>75.9</td>\n",
       "      <td>76.3</td>\n",
       "      <td>76.5</td>\n",
       "      <td>76.7</td>\n",
       "      <td>77.1</td>\n",
       "      <td>77.6</td>\n",
       "    </tr>\n",
       "    <tr>\n",
       "      <th>South Africa</th>\n",
       "      <td>58.9</td>\n",
       "      <td>60.4</td>\n",
       "      <td>61.9</td>\n",
       "      <td>63.3</td>\n",
       "      <td>64.6</td>\n",
       "      <td>65.6</td>\n",
       "      <td>66.4</td>\n",
       "      <td>67</td>\n",
       "    </tr>\n",
       "  </tbody>\n",
       "</table>\n",
       "</div>"
      ],
      "text/plain": [
       "                              2010  2011  2012  2013  2014  2015  2016  2017\n",
       "Country                                                                     \n",
       "Mexico                          77  77.2  77.3  77.4  77.5  77.7  77.8  77.9\n",
       "Brazil                        77.6  77.9  78.2  78.5  78.7  78.9  79.1  79.3\n",
       "China (People's Republic of)  76.8    77  77.2  77.3  77.5  77.7  77.8    78\n",
       "Colombia                        77  77.2  77.3  77.5  77.7  77.8    78  78.2\n",
       "India                         67.8  68.3  68.8  69.2  69.6  69.9  70.2  70.4\n",
       "Indonesia                     70.3  70.5  70.6  70.8    71  71.2  71.4  71.6\n",
       "Russia                        74.9  75.6  75.9  76.3  76.5  76.7  77.1  77.6\n",
       "South Africa                  58.9  60.4  61.9  63.3  64.6  65.6  66.4    67"
      ]
     },
     "execution_count": 10,
     "metadata": {},
     "output_type": "execute_result"
    }
   ],
   "source": [
    "femle_birth_df_bot1_2017 = femle_birth_df.sort_values(by='2017',ascending=False)[['Country','2017']].tail(10)\n",
    "femle_birth_df_bot1_2016 = femle_birth_df.sort_values(by='2016',ascending=False)[['Country','2016']].tail(10)\n",
    "femle_birth_df_bot1_2015 = femle_birth_df.sort_values(by='2015',ascending=False)[['Country','2015']].tail(10)\n",
    "femle_birth_df_bot1_2014 = femle_birth_df.sort_values(by='2014',ascending=False)[['Country','2014']].tail(10)\n",
    "femle_birth_df_bot1_2013 = femle_birth_df.sort_values(by='2013',ascending=False)[['Country','2013']].tail(10)\n",
    "femle_birth_df_bot1_2012 = femle_birth_df.sort_values(by='2012',ascending=False)[['Country','2012']].tail(10)\n",
    "femle_birth_df_bot1_2011 = femle_birth_df.sort_values(by='2011',ascending=False)[['Country','2011']].tail(10)\n",
    "femle_birth_df_bot1_2010 = femle_birth_df.sort_values(by='2010',ascending=False)[['Country','2010']].tail(10)\n",
    "femle_birth_df_bot1_2010\n",
    "femle_birth_df_bot1 = pd.concat([femle_birth_df_bot1_2010,femle_birth_df_bot1_2011,femle_birth_df_bot1_2012,femle_birth_df_bot1_2013,femle_birth_df_bot1_2014,femle_birth_df_bot1_2015,femle_birth_df_bot1_2016,femle_birth_df_bot1_2017], axis=1)\n",
    "femle_birth_df_bot1 = femle_birth_df_bot1.loc[:,~femle_birth_df_bot1.columns.duplicated()]\n",
    "femle_birth_df_bot1 = femle_birth_df_bot1.T\n",
    "femle_birth_df_bot1 = femle_birth_df_bot1[[22,36,37,38,40,41,42,43]]\n",
    "femle_birth_df_bot1.columns = femle_birth_df_bot1.iloc[0]\n",
    "femle_birth_df_bot1 = femle_birth_df_bot1.iloc[1:,:]\n",
    "#femle_birth_df_bot1 = femle_birth_df_bot1[['Australia','France','Italy','Japan','Korea','Spain','Switzerland']]\n",
    "\n",
    "femle_birth_df_bot1 = femle_birth_df_bot1.T\n",
    "femle_birth_df_bot1"
   ]
  },
  {
   "cell_type": "code",
   "execution_count": 11,
   "metadata": {},
   "outputs": [
    {
     "data": {
      "text/plain": [
       "Text(0.5, 0, 'Life Expectancy in years')"
      ]
     },
     "execution_count": 11,
     "metadata": {},
     "output_type": "execute_result"
    },
    {
     "data": {
      "image/png": "[encoded data removed]",
      "text/plain": [
       "<Figure size 720x432 with 1 Axes>"
      ]
     },
     "metadata": {
      "needs_background": "light"
     },
     "output_type": "display_data"
    }
   ],
   "source": [
    "ordered_df = femle_birth_df_bot1.sort_values(by='2010')\n",
    "my_range=(ordered_df.index)\n",
    "\n",
    "fig, ax = plt.subplots(1,1,figsize=(10,6))\n",
    "\n",
    "ax.hlines(y=my_range, xmin=ordered_df['2010'], xmax=ordered_df['2017'], color='black', alpha=0.4)\n",
    "ax.scatter(ordered_df['2010'], my_range, color='navy', alpha=1, label='2010')\n",
    "ax.scatter(ordered_df['2017'], my_range, color='gold', alpha=0.8 , label='2017')\n",
    "ax.legend()\n",
    "ax.set_xlabel('Life Expectancy in years')"
   ]
  },
  {
   "cell_type": "markdown",
   "metadata": {},
   "source": [
    "#### Inferences: \n",
    "\n",
    "South Africa's life expectancy increased signifiantly from 2010 to 2017. But still it takes the lowest place.     \n",
    "Russia and India are ranked second to have significant increase in number of years of life from 2010 to 2017. But India continued to be at second lowest position.   \n",
    "Only 3 countries have life expectancy less than 75 even by 2017 - South Africa, India and Indonesia. Remaining countries have life expectancy greater than 75 but less than 80.     \n",
    "Indonesia continued at the third lowest position from 2010 to 2017.   \n",
    "There is no significant increase in number of years of life in Mexico from 2010 to 2017 followed by Indonesia, China and Colombia. \n"
   ]
  },
  {
   "cell_type": "markdown",
   "metadata": {},
   "source": [
    "## Recommendations:\n",
    "\n"
   ]
  },
  {
   "cell_type": "markdown",
   "metadata": {},
   "source": [
    "1. There is an increase in the number of years of life for every country from 2010 to 2017. \n",
    "2. Most of the European countries have high life expectancy when compared to other continents. \n",
    "3. Most of the countries have a life expectancy greater than 80 from the year 2010 to 2017 and it was highest(20 countries) in 2013 when compared to other years. \n",
    "4. More countries have a life expectancy of 85 in 2017 than in 2010. \n",
    "5. The years of life has slowly drifted towards higher numbers from 2010 to 2017 which indicates that females at birth are living more number of years in 2017 than in 2010.\n",
    "6. The countries with lowest life expectancy is a mix of European,Asian, African and American countries.\n",
    "7. The lowest life expectancy in 2010 was 59 and in 2017 is 68. \n",
    "8. Only 3 countries have life expectancy less than 75 even by 2017 - South Africa, India and Indonesia. \n",
    "\n",
    "### Countries with highest life expectancy:\n",
    "9. Japan continues to be on the top in terms of life expectancy of females at birth with a life expectancy of 85 and above all through from 2010 to 2017.\n",
    "10. Spain continued to stay at the second highest place in terms of life expectancy of female at birth from 2010 to 2017. \n",
    "11. Australia was at the second lowest  among top 10 countries with high life expectancy in 2010 and fell down to the lowest of top 10 in 2017. \n",
    "12. Korea was at the lowest among top 10 countries with high life expectancy in 2010. However there is a significant raise and it took third highest place in 2017.  \n",
    "13. Italy was at the third lowest among top 10 highest life expectancy countries in 2010 and it dipped to second lowest in 2017 of top 10. \n",
    "\n",
    "\n",
    "### Countries with lowest life expectancy:\n",
    "14. South Africa continues to be on the lowest from 2010 to 2017 inspite of the significant increase from 59 in 2010 to 68 in 2017. \n",
    "15. Russia and India are ranked second to have significant increase in number of years of life from 2010 to 2017. But India continued to be at second lowest position.\n",
    "16. Indonesia continued at the third lowest position from 2010 to 2017.\n",
    "17. There is no significant increase in number of years of life in Mexico from 2010 to 2017 followed by Indonesia, China and Colombia. \n",
    "\n",
    "\n",
    "### Overall:\n",
    "18. South Africa has significant raise in numbers of life expectancy from 2010 to 2017. Hence it should continue to encourage the measures that were taken to increase the life expectancy.\n",
    "19. India and Indonesia must take measures to increase the life expectancy of female at birth since they have the lowest ranking of 44 countries.\n",
    "20. Mexico, China and Colombia follows next and hence they have to look for factors that can increase the life expectancy of female at birth.\n",
    "21. Japan and Spain excellent in making to the top all the time and help the lowest ranked countries to improve the numbers by suggestions.\n",
    "22. Since Italy could succeed in increasing its numbers from 2010 to 2017, it can probably help the other lower countries in providing methods that increased the numbers.\n",
    "\n",
    " "
   ]
  },
  {
   "cell_type": "code",
   "execution_count": null,
   "metadata": {},
   "outputs": [],
   "source": []
  }
 ],
 "metadata": {
  "kernelspec": {
   "display_name": "Python 3",
   "language": "python",
   "name": "python3"
  },
  "language_info": {
   "codemirror_mode": {
    "name": "ipython",
    "version": 3
   },
   "file_extension": ".py",
   "mimetype": "text/x-python",
   "name": "python",
   "nbconvert_exporter": "python",
   "pygments_lexer": "ipython3",
   "version": "3.8.5"
  }
 },
 "nbformat": 4,
 "nbformat_minor": 2
}
